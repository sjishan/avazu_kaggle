{
 "cells": [
  {
   "cell_type": "code",
   "execution_count": 1,
   "metadata": {
    "collapsed": true
   },
   "outputs": [],
   "source": [
    "import numpy as np\n",
    "from sklearn import metrics   #Additional scklearn functions\n",
    "from sklearn.model_selection import GridSearchCV   #Perforing grid search\n",
    "from xgboost import XGBClassifier"
   ]
  },
  {
   "cell_type": "code",
   "execution_count": 2,
   "metadata": {
    "collapsed": true
   },
   "outputs": [],
   "source": [
    "def data_split(x, y, ratio):\n",
    "    rows_number = y.shape[0]\n",
    "    \n",
    "    bound = int(round(rows_number*ratio**2))\n",
    "\n",
    "    return x[0:bound,:] , x[bound:,:] , y[0:bound], y[bound:]"
   ]
  },
  {
   "cell_type": "code",
   "execution_count": 3,
   "metadata": {
    "collapsed": true
   },
   "outputs": [],
   "source": [
    "def performance_metrics(pred_labels, true_labels):\n",
    "\n",
    "    #Positive Cases\n",
    "    PC = np.sum(true_labels == 1) \n",
    "    \n",
    "    #Negative Cases\n",
    "    NC = np.sum(true_labels == 0)\n",
    "    \n",
    "    # True Positive \n",
    "    TP = np.sum(np.logical_and(pred_labels == 1, true_labels == 1))\n",
    " \n",
    "    # True Negative \n",
    "    TN = np.sum(np.logical_and(pred_labels == 0, true_labels == 0))\n",
    " \n",
    "    # False Positive \n",
    "    FP = np.sum(np.logical_and(pred_labels == 1, true_labels == 0))\n",
    " \n",
    "    # False Negative \n",
    "    FN = np.sum(np.logical_and(pred_labels == 0, true_labels == 1))\n",
    "    \n",
    "    #Accuracy\n",
    "    Accuracy = (TP+TN)/float(TP+FP+TN+FN)\n",
    "    \n",
    "    #Precision\n",
    "    Precision = (TP)/float(TP+FP)\n",
    "    \n",
    "    #Recall\n",
    "    Recall = (TP)/float(TP+FN)\n",
    "    \n",
    "    fpr, tpr, thresholds = metrics.roc_curve(true_labels, pred_labels)\n",
    "    AUC = metrics.auc(fpr, tpr)\n",
    "    \n",
    "    print 'Positive Cases: %d, True Positive: %d, False Positive: %d' % (PC, TP, FP)\n",
    "    print 'Negative Cases: %d, True Negative: %d, False Negative: %d' % (NC, TN, FN)\n",
    "    print 'Accuracy: %.3f, Precision: %.3f, Recall: %.3f, AUC: %.3f' % (Accuracy, Precision, Recall, AUC)"
   ]
  },
  {
   "cell_type": "code",
   "execution_count": 4,
   "metadata": {
    "collapsed": true
   },
   "outputs": [],
   "source": [
    "ratio = 0.85\n",
    "\n",
    "\n",
    "x = np.load('data/features_pca.npy').T\n",
    "y = np.load('data/labels.npy')\n",
    "\n",
    "x_train, x_test, y_train, y_test = data_split(x,y,ratio)                  \n"
   ]
  },
  {
   "cell_type": "code",
   "execution_count": 6,
   "metadata": {
    "collapsed": true
   },
   "outputs": [],
   "source": [
    "xgb = XGBClassifier( learning_rate =0.01,n_estimators=1000, max_depth=5, min_child_weight=1, gamma=0, subsample=0.8, colsample_bytree=0.8,\n",
    " objective= 'binary:logistic', nthread=4, scale_pos_weight=1, seed=1, reg_alpha=0.005)\n",
    "xgb.fit(x_train, y_train)\n",
    "y_pred = xgb.predict(x_test)"
   ]
  },
  {
   "cell_type": "code",
   "execution_count": 7,
   "metadata": {},
   "outputs": [
    {
     "name": "stdout",
     "output_type": "stream",
     "text": [
      "Positive Cases: 3198, True Positive: 119, False Positive: 129\n",
      "Negative Cases: 16227, True Negative: 16098, False Negative: 3079\n",
      "Accuracy: 0.835, Precision: 0.480, Recall: 0.037, AUC: 0.515\n"
     ]
    }
   ],
   "source": [
    "performance_metrics(y_pred, y_test)"
   ]
  },
  {
   "cell_type": "code",
   "execution_count": null,
   "metadata": {
    "collapsed": true
   },
   "outputs": [],
   "source": [
    "params = {\n",
    " 'min_child_weight':range(1,6,2),\n",
    " 'reg_alpha':[0, 0.001, 0.005, 0.01, 0.05],\n",
    " \n",
    "\n",
    "}\n",
    "\n",
    "gsearch = GridSearchCV(estimator = XGBClassifier( learning_rate =0.1, n_estimators=140, max_depth=5,\n",
    " min_child_weight=1, gamma=0, subsample=0.8, colsample_bytree=0.8,\n",
    " objective= 'binary:logistic', nthread=4, scale_pos_weight=1, seed=27), \n",
    " param_grid = param_test1, scoring='roc_auc',n_jobs=4,iid=False, cv=5)\n",
    "\n",
    "gsearch.fit(x_train, y_train, eval_metric=\"logloss\", eval_set=[(x_val, y_val)])\n",
    "y_pred = gsearch.predict(x_test)\n",
    "\n",
    "print \"Best Parameters: \" + str(gsearch.best_params_)"
   ]
  },
  {
   "cell_type": "code",
   "execution_count": null,
   "metadata": {
    "collapsed": true
   },
   "outputs": [],
   "source": [
    "performance_metrics(y_pred, y_test)"
   ]
  },
  {
   "cell_type": "code",
   "execution_count": null,
   "metadata": {
    "collapsed": true
   },
   "outputs": [],
   "source": []
  }
 ],
 "metadata": {
  "kernelspec": {
   "display_name": "Python 2",
   "language": "python",
   "name": "python2"
  },
  "language_info": {
   "codemirror_mode": {
    "name": "ipython",
    "version": 2
   },
   "file_extension": ".py",
   "mimetype": "text/x-python",
   "name": "python",
   "nbconvert_exporter": "python",
   "pygments_lexer": "ipython2",
   "version": "2.7.13"
  }
 },
 "nbformat": 4,
 "nbformat_minor": 2
}
